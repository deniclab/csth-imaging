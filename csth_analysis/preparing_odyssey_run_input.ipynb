{
 "cells": [
  {
   "cell_type": "markdown",
   "metadata": {},
   "source": [
    "# Preparing input list for the Odyssey cluster analysis run\n",
    "\n",
    "In order to distribute the analysis amongst nodes on the cluster, I'm generating a .csv-format reference list in which each row will be the name of one image to run analysis on. For each image, I'll assign a control image to each sample. The python script called by the slurm submission script will pick a row based on its position in the job array and run analysis on that file."
   ]
  },
  {
   "cell_type": "code",
   "execution_count": 1,
   "metadata": {
    "collapsed": true
   },
   "outputs": [],
   "source": [
    "import os\n",
    "files_list = []\n",
    "for i in os.walk('/Volumes/denic_lab/Lab/TH_Imaging'):\n",
    "    for f in i[2]:\n",
    "        if not f.endswith('.czi'):\n",
    "            continue\n",
    "        files_list.append(i[0]+'/'+f)"
   ]
  },
  {
   "cell_type": "code",
   "execution_count": 3,
   "metadata": {},
   "outputs": [
    {
     "name": "stdout",
     "output_type": "stream",
     "text": [
      "/Volumes/denic_lab/Lab/TH_Imaging/6.8.17 TH69 LSM Airyscan 880/HEK LC3 WIPI for Nick/LC3-WIPI_HEK_dSQSTM1_NoTreat_ClumpandEmptyandSingles_Airyscan Processing.czi\n",
      "/Volumes/denic_lab/Lab/TH_Imaging/6.8.17 TH69 LSM Airyscan 880/HEK LC3 WIPI for Nick/LC3-WIPI_HEK_dTMEM_NoTreat_Clump_2_Airyscan Processing.czi\n",
      "/Volumes/denic_lab/Lab/TH_Imaging/6.8.17 TH69 LSM Airyscan 880/HEK LC3 WIPI for Nick/LC3-WIPI_HEK_WT_TORIN_SINGLE-DOUBLE_2_Airyscan Processing.czi\n",
      "/Volumes/denic_lab/Lab/TH_Imaging/6.8.17 TH69 LSM Airyscan 880/HEK LC3 WIPI for Nick/LC3-WIPI_HEK_FIP200_NoTreat_ClumpandSingles2_Airyscan Processing.czi\n",
      "/Volumes/denic_lab/Lab/TH_Imaging/6.8.17 TH69 LSM Airyscan 880/HEK LC3 WIPI for Nick/LC3-WIPI_HEK_dATG7_NoTreat_ClumpandSingles_Airyscan Processing.czi\n",
      "/Volumes/denic_lab/Lab/TH_Imaging/6.8.17 TH69 LSM Airyscan 880/HEK LC3 WIPI for Nick/LC3-WIPI_HEK_WT_NoTreat_Clumpandsingles_1_Airyscan Processing.czi\n",
      "/Volumes/denic_lab/Lab/TH_Imaging/6.8.17 TH69 LSM Airyscan 880/HEK LC3 WIPI for Nick/LC3-WIPI_HEK_dVPS37A_NoTreat_ClumpandSingles_2_Airyscan Processing.czi\n",
      "/Volumes/denic_lab/Lab/TH_Imaging/6.8.17 TH69 LSM Airyscan 880/HEK LC3 P62 for Nick/LC3-p62_HEK_WT_No Torin_Clumpsandsingles_Airyscan Processing.czi\n",
      "/Volumes/denic_lab/Lab/TH_Imaging/6.8.17 TH69 LSM Airyscan 880/HEK LC3 P62 for Nick/LC3-p62_HEK_dTMEM_No Torin_ClumpandSingles_Airyscan Processing.czi\n",
      "/Volumes/denic_lab/Lab/TH_Imaging/6.8.17 TH69 LSM Airyscan 880/HEK LC3 P62 for Nick/LC3-p62_HEK_dAtg7_NoTorin_Clumpandsingles_Airyscan Processing.czi\n",
      "/Volumes/denic_lab/Lab/TH_Imaging/6.8.17 TH69 LSM Airyscan 880/HEK LC3 P62 for Nick/LC3-p62_HEK_dVPS_NoTorin_Clumpandsingles_2_Airyscan Processing.czi\n",
      "/Volumes/denic_lab/Lab/TH_Imaging/6.8.17 TH69 LSM Airyscan 880/HEK LC3 P62 for Nick/LC3-p62_HEK_dP62_NoTorin_ClumpsandSingles_Airyscan Processing.czi\n",
      "/Volumes/denic_lab/Lab/TH_Imaging/6.8.17 TH69 LSM Airyscan 880/HEK LC3 P62 for Nick/LC3-p62_HEK_dTMEM_No Treat_Empty2_Airyscan Processing.czi\n",
      "/Volumes/denic_lab/Lab/TH_Imaging/6.8.17 TH69 LSM Airyscan 880/HEK LC3 P62 for Nick/LC3-p62_HEK_WT_Torin_ClumpsandSingles_Airyscan Processing.czi\n",
      "/Volumes/denic_lab/Lab/TH_Imaging/6.8.17 TH69 LSM Airyscan 880/HEK LC3 P62 for Nick/LC3-p62_HEK_dFIP200_No Torin_Clumpsandsingles_1_Airyscan Processing.czi\n",
      "/Volumes/denic_lab/Lab/TH_Imaging/6.12.17 TH70_LC3-WIPI_LSM Airyscan 880/LC3-WIPI_HEK_dTMEM_NoTreat_40pos_Airyscan Processing.czi\n",
      "/Volumes/denic_lab/Lab/TH_Imaging/6.12.17 TH70_LC3-WIPI_LSM Airyscan 880/LC3-WIPI_HEK_dVPS37A_NoTreat_15pos_Airyscan Processing.czi\n",
      "/Volumes/denic_lab/Lab/TH_Imaging/6.12.17 TH70_LC3-WIPI_LSM Airyscan 880/LC3-WIPI_HEK_dVPS37A_NoTreat_25pos_Airyscan Processing.czi\n",
      "/Volumes/denic_lab/Lab/TH_Imaging/6.12.17 TH70_LC3-WIPI_LSM Airyscan 880/LC3-WIPI_HEK_dATG7_NoTreat_40pos_Airyscan Processing.czi\n",
      "/Volumes/denic_lab/Lab/TH_Imaging/6.12.17 TH70_LC3-WIPI_LSM Airyscan 880/LC3-WIPI_HEK_dFIP200_NoTreat_40pos_Airyscan Processing.czi\n",
      "/Volumes/denic_lab/Lab/TH_Imaging/6.12.17 TH70_LC3-WIPI_LSM Airyscan 880/LC3-WIPI_HEK_dP62_NoTreat_40pos_Airyscan Processing.czi\n",
      "/Volumes/denic_lab/Lab/TH_Imaging/6.12.17 TH70_LC3-WIPI_LSM Airyscan 880/LC3-WIPI_HEK_wt_NoTreat_40pos_Airyscan Processing.czi\n",
      "/Volumes/denic_lab/Lab/TH_Imaging/6.12.17 TH70_LC3-WIPI_LSM Airyscan 880/LC3-WIPI_HEK_dFIP200_Torin_40pos_AiryscanProcessing.czi\n",
      "/Volumes/denic_lab/Lab/TH_Imaging/6.12.17 TH70_LC3-WIPI_LSM Airyscan 880/LC3-WIPI_HEK_dTMEM_Torin_40pos_AiryscanProcessing.czi\n",
      "/Volumes/denic_lab/Lab/TH_Imaging/6.12.17 TH70_LC3-WIPI_LSM Airyscan 880/LC3-WIPI_HEK_dATG7_Torin_40pos_AiryscanProcessing.czi\n",
      "/Volumes/denic_lab/Lab/TH_Imaging/6.12.17 TH70_LC3-WIPI_LSM Airyscan 880/LC3-WIPI_HEK_dVPS37A_Torin_40pos_AiryscanProcessing.czi\n",
      "/Volumes/denic_lab/Lab/TH_Imaging/6.12.17 TH70_LC3-WIPI_LSM Airyscan 880/LC3-WIPI_HEK_wt_Torin_position15_AiryscanProcessing.czi\n",
      "/Volumes/denic_lab/Lab/TH_Imaging/6.12.17 TH70_LC3-WIPI_LSM Airyscan 880/LC3-WIPI_HEK_wt_Torin_17pos_IGNORE-POS-15_AiryscanProcessing.czi\n",
      "/Volumes/denic_lab/Lab/TH_Imaging/6.12.17 TH70_LC3-WIPI_LSM Airyscan 880/LC3-WIPI_HEK_wt_Torin_23pos_AiryscanProcessing.czi\n",
      "/Volumes/denic_lab/Lab/TH_Imaging/6.19.17 TH71_LC3-P62_LSM Airyscan 880/LC3-p62_HEK_dTMEM_No Torin_10Pos_2_AiryscanProcessing.czi\n",
      "/Volumes/denic_lab/Lab/TH_Imaging/6.19.17 TH71_LC3-P62_LSM Airyscan 880/LC3-p62_HEK_dTMEM_No Torin_10Pos_3_AiryscanProcessing.czi\n",
      "/Volumes/denic_lab/Lab/TH_Imaging/6.19.17 TH71_LC3-P62_LSM Airyscan 880/LC3-p62_HEK_dVPS37A_Torin_10Pos_4_AiryscanProcessing.czi\n",
      "/Volumes/denic_lab/Lab/TH_Imaging/6.19.17 TH71_LC3-P62_LSM Airyscan 880/LC3-p62_HEK_dTMEM_No Torin_10Pos_4_AiryscanProcessing.czi\n",
      "/Volumes/denic_lab/Lab/TH_Imaging/6.19.17 TH71_LC3-P62_LSM Airyscan 880/LC3-p62_HEK_dTMEM_No Torin_EMPTY_AiryscanProcessing.czi\n",
      "/Volumes/denic_lab/Lab/TH_Imaging/6.19.17 TH71_LC3-P62_LSM Airyscan 880/LC3-p62_HEK_dTMEM_No Torin_10Pos_1_AiryscanProcessing.czi\n",
      "/Volumes/denic_lab/Lab/TH_Imaging/6.19.17 TH71_LC3-P62_LSM Airyscan 880/LC3-p62_HEK_dATG7_No Torin_10Pos_2_AiryscanProcessing.czi\n",
      "/Volumes/denic_lab/Lab/TH_Imaging/6.19.17 TH71_LC3-P62_LSM Airyscan 880/LC3-p62_HEK_dATG7_No Torin_10Pos_1_AiryscanProcessing.czi\n",
      "/Volumes/denic_lab/Lab/TH_Imaging/6.19.17 TH71_LC3-P62_LSM Airyscan 880/LC3-p62_HEK_dATG7_No Torin_10Pos_3_AiryscanProcessing.czi\n",
      "/Volumes/denic_lab/Lab/TH_Imaging/6.19.17 TH71_LC3-P62_LSM Airyscan 880/LC3-p62_HEK_dATG7_No Torin_10Pos_4_AiryscanProcessing.czi\n",
      "/Volumes/denic_lab/Lab/TH_Imaging/6.19.17 TH71_LC3-P62_LSM Airyscan 880/LC3-p62_HEK_dVPS37A_No Torin_10Pos_1_AiryscanProcessing.czi\n",
      "/Volumes/denic_lab/Lab/TH_Imaging/6.19.17 TH71_LC3-P62_LSM Airyscan 880/LC3-p62_HEK_dVPS37A_No Torin_10Pos_3_AiryscanProcessing.czi\n",
      "/Volumes/denic_lab/Lab/TH_Imaging/6.19.17 TH71_LC3-P62_LSM Airyscan 880/LC3-p62_HEK_dVPS37A_No Torin_10Pos_2_AiryscanProcessing.czi\n",
      "/Volumes/denic_lab/Lab/TH_Imaging/6.19.17 TH71_LC3-P62_LSM Airyscan 880/LC3-p62_HEK_dVPS37A_No Torin_10Pos_4_AiryscanProcessing.czi\n",
      "/Volumes/denic_lab/Lab/TH_Imaging/6.19.17 TH71_LC3-P62_LSM Airyscan 880/LC3-p62_HEK_dVPS37A_No Torin_EMPTY_AiryscanProcessing.czi\n",
      "/Volumes/denic_lab/Lab/TH_Imaging/6.19.17 TH71_LC3-P62_LSM Airyscan 880/LC3-p62_HEK_dFIP200_No Torin_10Pos_3_AiryscanProcessing.czi\n",
      "/Volumes/denic_lab/Lab/TH_Imaging/6.19.17 TH71_LC3-P62_LSM Airyscan 880/LC3-p62_HEK_dFIP200_No Torin_10Pos_1_AiryscanProcessing.czi\n",
      "/Volumes/denic_lab/Lab/TH_Imaging/6.19.17 TH71_LC3-P62_LSM Airyscan 880/LC3-p62_HEK_dFIP200_No Torin_10Pos_2_AiryscanProcessing.czi\n",
      "/Volumes/denic_lab/Lab/TH_Imaging/6.19.17 TH71_LC3-P62_LSM Airyscan 880/LC3-p62_HEK_dFIP200_No Torin_10Pos_4_AiryscanProcessing.czi\n",
      "/Volumes/denic_lab/Lab/TH_Imaging/6.19.17 TH71_LC3-P62_LSM Airyscan 880/LC3-p62_HEK_WT_Torin_10Pos_3_AiryscanProcessing.czi\n",
      "/Volumes/denic_lab/Lab/TH_Imaging/6.19.17 TH71_LC3-P62_LSM Airyscan 880/LC3-p62_HEK_dFIP200_No Torin_EMPTY_AiryscanProcessing.czi\n",
      "/Volumes/denic_lab/Lab/TH_Imaging/6.19.17 TH71_LC3-P62_LSM Airyscan 880/LC3-p62_HEK_dp62_No Torin_10Pos_1_AiryscanProcessing.czi\n",
      "/Volumes/denic_lab/Lab/TH_Imaging/6.19.17 TH71_LC3-P62_LSM Airyscan 880/LC3-p62_HEK_dp62_No Torin_10Pos_2_AiryscanProcessing.czi\n",
      "/Volumes/denic_lab/Lab/TH_Imaging/6.19.17 TH71_LC3-P62_LSM Airyscan 880/LC3-p62_HEK_dp62_No Torin_EMPTY_AiryscanProcessing.czi\n",
      "/Volumes/denic_lab/Lab/TH_Imaging/6.19.17 TH71_LC3-P62_LSM Airyscan 880/LC3-p62_HEK_dp62_No Torin_10Pos_3_AiryscanProcessing.czi\n",
      "/Volumes/denic_lab/Lab/TH_Imaging/6.19.17 TH71_LC3-P62_LSM Airyscan 880/LC3-p62_HEK_dp62_No Torin_10Pos_4_AiryscanProcessing.czi\n",
      "/Volumes/denic_lab/Lab/TH_Imaging/6.19.17 TH71_LC3-P62_LSM Airyscan 880/LC3-p62_HEK_dTMEM_Torin_10Pos_4_AiryscanProcessing.czi\n",
      "/Volumes/denic_lab/Lab/TH_Imaging/6.19.17 TH71_LC3-P62_LSM Airyscan 880/LC3-p62_HEK_dATG7_No Torin_EMPTY_AiryscanProcessing.czi\n",
      "/Volumes/denic_lab/Lab/TH_Imaging/6.19.17 TH71_LC3-P62_LSM Airyscan 880/LC3-p62_HEK_WT_No Torin_EMPTY_AiryscanProcessing.czi\n",
      "/Volumes/denic_lab/Lab/TH_Imaging/6.19.17 TH71_LC3-P62_LSM Airyscan 880/LC3-p62_HEK_WT_No Torin_10Pos_1_AiryscanProcessing.czi\n",
      "/Volumes/denic_lab/Lab/TH_Imaging/6.19.17 TH71_LC3-P62_LSM Airyscan 880/LC3-p62_HEK_WT_No Torin_10Pos_2_AiryscanProcessing.czi\n",
      "/Volumes/denic_lab/Lab/TH_Imaging/6.19.17 TH71_LC3-P62_LSM Airyscan 880/LC3-p62_HEK_WT_No Torin_10Pos_3_AiryscanProcessing.czi\n",
      "/Volumes/denic_lab/Lab/TH_Imaging/6.19.17 TH71_LC3-P62_LSM Airyscan 880/LC3-p62_HEK_WT_No Torin_10Pos_4_AiryscanProcessing.czi\n",
      "/Volumes/denic_lab/Lab/TH_Imaging/6.19.17 TH71_LC3-P62_LSM Airyscan 880/LC3-p62_HEK_dFIP200_Torin_10Pos_1_AiryscanProcessing.czi\n",
      "/Volumes/denic_lab/Lab/TH_Imaging/6.19.17 TH71_LC3-P62_LSM Airyscan 880/LC3-p62_HEK_dTMEM_Torin_EMPTY_AiryscanProcessing.czi\n",
      "/Volumes/denic_lab/Lab/TH_Imaging/6.19.17 TH71_LC3-P62_LSM Airyscan 880/LC3-p62_HEK_dTMEM_Torin_10Pos_1_AiryscanProcessing.czi\n",
      "/Volumes/denic_lab/Lab/TH_Imaging/6.19.17 TH71_LC3-P62_LSM Airyscan 880/LC3-p62_HEK_dTMEM_Torin_10Pos_2_AiryscanProcessing.czi\n",
      "/Volumes/denic_lab/Lab/TH_Imaging/6.19.17 TH71_LC3-P62_LSM Airyscan 880/LC3-p62_HEK_dTMEM_Torin_10Pos_3_AiryscanProcessing.czi\n",
      "/Volumes/denic_lab/Lab/TH_Imaging/6.19.17 TH71_LC3-P62_LSM Airyscan 880/LC3-p62_HEK_dFIP200_Torin_10Pos_2_AiryscanProcessing.czi\n",
      "/Volumes/denic_lab/Lab/TH_Imaging/6.19.17 TH71_LC3-P62_LSM Airyscan 880/LC3-p62_HEK_dFIP200_Torin_10Pos_3_AiryscanProcessing.czi\n",
      "/Volumes/denic_lab/Lab/TH_Imaging/6.19.17 TH71_LC3-P62_LSM Airyscan 880/LC3-p62_HEK_dFIP200_Torin_EMPTY_AiryscanProcessing.czi\n",
      "/Volumes/denic_lab/Lab/TH_Imaging/6.19.17 TH71_LC3-P62_LSM Airyscan 880/LC3-p62_HEK_dFIP200_Torin_10Pos_4_AiryscanProcessing.czi\n",
      "/Volumes/denic_lab/Lab/TH_Imaging/6.19.17 TH71_LC3-P62_LSM Airyscan 880/LC3-p62_HEK_dATG7_Torin_EMPTY_AiryscanProcessing.czi\n",
      "/Volumes/denic_lab/Lab/TH_Imaging/6.19.17 TH71_LC3-P62_LSM Airyscan 880/LC3-p62_HEK_dATG7_Torin_10Pos_1_AiryscanProcessing.czi\n",
      "/Volumes/denic_lab/Lab/TH_Imaging/6.19.17 TH71_LC3-P62_LSM Airyscan 880/LC3-p62_HEK_dATG7_Torin_10Pos_2_AiryscanProcessing.czi\n",
      "/Volumes/denic_lab/Lab/TH_Imaging/6.19.17 TH71_LC3-P62_LSM Airyscan 880/LC3-p62_HEK_dATG7_Torin_10Pos_3_AiryscanProcessing.czi\n",
      "/Volumes/denic_lab/Lab/TH_Imaging/6.19.17 TH71_LC3-P62_LSM Airyscan 880/LC3-p62_HEK_dVPS37A_Torin_EMPTY_AiryscanProcessing.czi\n",
      "/Volumes/denic_lab/Lab/TH_Imaging/6.19.17 TH71_LC3-P62_LSM Airyscan 880/LC3-p62_HEK_dVPS37A_Torin_10Pos_2_AiryscanProcessing.czi\n",
      "/Volumes/denic_lab/Lab/TH_Imaging/6.19.17 TH71_LC3-P62_LSM Airyscan 880/LC3-p62_HEK_dVPS37A_Torin_10Pos_1_AiryscanProcessing.czi\n",
      "/Volumes/denic_lab/Lab/TH_Imaging/6.19.17 TH71_LC3-P62_LSM Airyscan 880/LC3-p62_HEK_dVPS37A_Torin_10Pos_3_AiryscanProcessing.czi\n",
      "/Volumes/denic_lab/Lab/TH_Imaging/6.19.17 TH71_LC3-P62_LSM Airyscan 880/LC3-p62_HEK_WT_Torin_10Pos_1_AiryscanProcessing.czi\n",
      "/Volumes/denic_lab/Lab/TH_Imaging/6.19.17 TH71_LC3-P62_LSM Airyscan 880/LC3-p62_HEK_WT_Torin_10Pos_2_AiryscanProcessing.czi\n",
      "/Volumes/denic_lab/Lab/TH_Imaging/6.19.17 TH71_LC3-P62_LSM Airyscan 880/LC3-p62_HEK_WT_Torin_10Pos_4_AiryscanProcessing.czi\n",
      "/Volumes/denic_lab/Lab/TH_Imaging/6.19.17 TH71_LC3-P62_LSM Airyscan 880/LC3-p62_HEK_dATG7_Torin_10Pos_4_AiryscanProcessing.czi\n",
      "/Volumes/denic_lab/Lab/TH_Imaging/6.19.17 TH71_LC3-P62_LSM Airyscan 880/LC3-p62_HEK_dp62_Torin_EMPTY_AiryscanProcessing.czi\n",
      "/Volumes/denic_lab/Lab/TH_Imaging/6.19.17 TH71_LC3-P62_LSM Airyscan 880/LC3-p62_HEK_dp62_Torin_10Pos_3_AiryscanProcessing.czi\n"
     ]
    }
   ],
   "source": [
    "for i in files_list:\n",
    "    print(i)"
   ]
  },
  {
   "cell_type": "code",
   "execution_count": 4,
   "metadata": {
    "collapsed": true
   },
   "outputs": [],
   "source": [
    "import pandas as pd\n",
    "f_series = pd.Series(files_list)\n",
    "output_df = pd.DataFrame({'files': f_series})\n",
    "output_df.to_csv('/Users/nweir/Dropbox/code/csth-imaging/im_list.csv')"
   ]
  },
  {
   "cell_type": "code",
   "execution_count": 10,
   "metadata": {
    "collapsed": true
   },
   "outputs": [],
   "source": [
    "# testing pandas import of reference csv\n",
    "df = pd.read_csv('/Users/nweir/Dropbox/code/csth-imaging/im_list_wipi.csv')"
   ]
  },
  {
   "cell_type": "code",
   "execution_count": 11,
   "metadata": {},
   "outputs": [
    {
     "data": {
      "text/plain": [
       "'/n/denic_lab/Lab/TH_Imaging/6.12.17 TH70_LC3-WIPI_LSM Airyscan 880/LC3-WIPI_HEK_dATG7_NoTreat_40pos_Airyscan Processing.czi'"
      ]
     },
     "execution_count": 11,
     "metadata": {},
     "output_type": "execute_result"
    }
   ],
   "source": [
    "df['files'].iloc[3]"
   ]
  },
  {
   "cell_type": "code",
   "execution_count": 13,
   "metadata": {},
   "outputs": [
    {
     "data": {
      "text/plain": [
       "'LC3-WIPI_HEK_dATG7_NoTreat_40pos_Airyscan Processing'"
      ]
     },
     "execution_count": 13,
     "metadata": {},
     "output_type": "execute_result"
    }
   ],
   "source": [
    "a = df['files'].iloc[3]\n",
    "a.split('/')[-1][:-4]"
   ]
  },
  {
   "cell_type": "code",
   "execution_count": 14,
   "metadata": {},
   "outputs": [
    {
     "data": {
      "text/plain": [
       "0     /n/denic_lab/Lab/TH_Imaging/6.12.17 TH70_LC3-W...\n",
       "1     /n/denic_lab/Lab/TH_Imaging/6.12.17 TH70_LC3-W...\n",
       "2     /n/denic_lab/Lab/TH_Imaging/6.12.17 TH70_LC3-W...\n",
       "3     /n/denic_lab/Lab/TH_Imaging/6.12.17 TH70_LC3-W...\n",
       "4     /n/denic_lab/Lab/TH_Imaging/6.12.17 TH70_LC3-W...\n",
       "5     /n/denic_lab/Lab/TH_Imaging/6.12.17 TH70_LC3-W...\n",
       "6     /n/denic_lab/Lab/TH_Imaging/6.12.17 TH70_LC3-W...\n",
       "7     /n/denic_lab/Lab/TH_Imaging/6.12.17 TH70_LC3-W...\n",
       "8     /n/denic_lab/Lab/TH_Imaging/6.12.17 TH70_LC3-W...\n",
       "9     /n/denic_lab/Lab/TH_Imaging/6.12.17 TH70_LC3-W...\n",
       "10    /n/denic_lab/Lab/TH_Imaging/6.12.17 TH70_LC3-W...\n",
       "11    /n/denic_lab/Lab/TH_Imaging/6.12.17 TH70_LC3-W...\n",
       "12    /n/denic_lab/Lab/TH_Imaging/6.12.17 TH70_LC3-W...\n",
       "13    /n/denic_lab/Lab/TH_Imaging/6.12.17 TH70_LC3-W...\n",
       "Name: files, dtype: object"
      ]
     },
     "execution_count": 14,
     "metadata": {},
     "output_type": "execute_result"
    }
   ],
   "source": [
    "df['files']"
   ]
  },
  {
   "cell_type": "code",
   "execution_count": null,
   "metadata": {
    "collapsed": true
   },
   "outputs": [],
   "source": []
  }
 ],
 "metadata": {
  "kernelspec": {
   "display_name": "Python 3",
   "language": "python",
   "name": "python3"
  },
  "language_info": {
   "codemirror_mode": {
    "name": "ipython",
    "version": 3
   },
   "file_extension": ".py",
   "mimetype": "text/x-python",
   "name": "python",
   "nbconvert_exporter": "python",
   "pygments_lexer": "ipython3",
   "version": "3.6.1"
  }
 },
 "nbformat": 4,
 "nbformat_minor": 2
}
