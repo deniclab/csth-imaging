{
 "cells": [
  {
   "cell_type": "code",
   "execution_count": 1,
   "metadata": {},
   "outputs": [
    {
     "name": "stderr",
     "output_type": "stream",
     "text": [
      "/usr/local/lib/python3.6/site-packages/tifffile.py:313: UserWarning: ImportError: No module named '_tifffile'. Loading of some compressed images will be very slow. Tifffile.c can be obtained at http://www.lfd.uci.edu/~gohlke/\n",
      "  \"ImportError: No module named '_tifffile'. \"\n",
      "/usr/local/lib/python3.6/site-packages/czifile.py:130: UserWarning: failed to import the optional _czifile C extension module.\n",
      "Decoding of JXR and JPEG encoded images will not be available.\n",
      "Czifile.pyx can be obtained at http://www.lfd.uci.edu/~gohlke/\n",
      "  \"failed to import the optional _czifile C extension module.\\n\"\n"
     ]
    }
   ],
   "source": [
    "# import newly developed scripts\n",
    "import sys\n",
    "sys.path.append('/Users/nweir/Dropbox/code/csth-imaging')\n",
    "from csth_analysis.analysis_scripts import czi_io, find_cells\n",
    "import numpy as np\n",
    "import os\n",
    "from skimage import io, measure\n",
    "from scipy.ndimage import filters\n",
    "import matplotlib.pyplot as plt\n",
    "from scipy import stats"
   ]
  },
  {
   "cell_type": "markdown",
   "metadata": {},
   "source": [
    "This seems to import the image fine. I need to get a sample background image too, then I'll try to find cells using this."
   ]
  },
  {
   "cell_type": "code",
   "execution_count": 2,
   "metadata": {},
   "outputs": [],
   "source": [
    "os.chdir('/Users/nweir/Dropbox/chris_imaging/imaging_test/th_sample_czi/')\n",
    "test_finder = find_cells.MultiFinder('/Users/nweir/Dropbox/chris_imaging/imaging_test/th_sample_czi/LC3-p62_HEK_WT_Torin_ClumpsandSingles_Airyscan Processing.czi',\n",
    "                                    bg_filename = '/Users/nweir/Dropbox/chris_imaging/imaging_test/th_sample_czi/LC3-p62_HEK_dVPS37A_No Torin_EMPTY_AiryscanProcessing.czi')"
   ]
  },
  {
   "cell_type": "code",
   "execution_count": 3,
   "metadata": {},
   "outputs": [
    {
     "name": "stdout",
     "output_type": "stream",
     "text": [
      "log-transforming arrays...\n",
      "applying gaussian filter...\n",
      "computing p-value transformation...\n",
      "converting to binary...\n",
      "\n",
      "generating cell masks...\n",
      "\n",
      "generating mask #1\n",
      "labeling contiguous objects...\n",
      "eliminating objects w/volume < 100,000 px...\n",
      "pruning labels...\n",
      "appending outputs...\n",
      "mask #1 complete.\n",
      "\n",
      "generating mask #2\n",
      "labeling contiguous objects...\n",
      "eliminating objects w/volume < 100,000 px...\n",
      "pruning labels...\n",
      "appending outputs...\n",
      "mask #2 complete.\n",
      "\n",
      "generating mask #3\n",
      "labeling contiguous objects...\n",
      "eliminating objects w/volume < 100,000 px...\n",
      "pruning labels...\n",
      "appending outputs...\n",
      "mask #3 complete.\n",
      "\n",
      "generating mask #4\n",
      "labeling contiguous objects...\n",
      "eliminating objects w/volume < 100,000 px...\n",
      "pruning labels...\n",
      "appending outputs...\n",
      "mask #4 complete.\n",
      "\n",
      "generating mask #5\n",
      "labeling contiguous objects...\n",
      "eliminating objects w/volume < 100,000 px...\n",
      "pruning labels...\n",
      "appending outputs...\n",
      "mask #5 complete.\n",
      "\n"
     ]
    }
   ],
   "source": [
    "output = test_finder.find_cells(488)"
   ]
  },
  {
   "cell_type": "code",
   "execution_count": 4,
   "metadata": {},
   "outputs": [
    {
     "name": "stderr",
     "output_type": "stream",
     "text": [
      "/usr/local/lib/python3.6/site-packages/skimage/io/_io.py:132: UserWarning: /Users/nweir/Dropbox/chris_imaging/imaging_test/th_sample_czi/output_test.tiff is a low contrast image\n",
      "  warn('%s is a low contrast image' % fname)\n"
     ]
    }
   ],
   "source": [
    "io.imsave('/Users/nweir/Dropbox/chris_imaging/imaging_test/th_sample_czi/output_test.tiff', output[0].astype('uint16'))"
   ]
  },
  {
   "cell_type": "code",
   "execution_count": 5,
   "metadata": {},
   "outputs": [
    {
     "data": {
      "text/plain": [
       "array([[[ True,  True,  True, ...,  True,  True,  True],\n",
       "        [ True,  True,  True, ...,  True,  True,  True],\n",
       "        [ True,  True,  True, ...,  True,  True,  True],\n",
       "        ..., \n",
       "        [ True,  True,  True, ...,  True,  True,  True],\n",
       "        [ True,  True,  True, ...,  True,  True,  True],\n",
       "        [ True,  True,  True, ...,  True,  True,  True]],\n",
       "\n",
       "       [[ True,  True,  True, ...,  True,  True,  True],\n",
       "        [ True,  True,  True, ...,  True,  True,  True],\n",
       "        [ True,  True,  True, ...,  True,  True,  True],\n",
       "        ..., \n",
       "        [ True,  True,  True, ...,  True,  True,  True],\n",
       "        [ True,  True,  True, ...,  True,  True,  True],\n",
       "        [ True,  True,  True, ...,  True,  True,  True]],\n",
       "\n",
       "       [[ True,  True,  True, ...,  True,  True,  True],\n",
       "        [ True,  True,  True, ...,  True,  True,  True],\n",
       "        [ True,  True,  True, ...,  True,  True,  True],\n",
       "        ..., \n",
       "        [ True,  True,  True, ...,  True,  True,  True],\n",
       "        [ True,  True,  True, ...,  True,  True,  True],\n",
       "        [ True,  True,  True, ...,  True,  True,  True]],\n",
       "\n",
       "       ..., \n",
       "       [[ True,  True,  True, ...,  True,  True,  True],\n",
       "        [ True,  True,  True, ...,  True,  True,  True],\n",
       "        [ True,  True,  True, ...,  True,  True,  True],\n",
       "        ..., \n",
       "        [ True,  True,  True, ...,  True,  True,  True],\n",
       "        [ True,  True,  True, ...,  True,  True,  True],\n",
       "        [ True,  True,  True, ...,  True,  True,  True]],\n",
       "\n",
       "       [[ True,  True,  True, ...,  True,  True,  True],\n",
       "        [ True,  True,  True, ...,  True,  True,  True],\n",
       "        [ True,  True,  True, ...,  True,  True,  True],\n",
       "        ..., \n",
       "        [ True,  True,  True, ...,  True,  True,  True],\n",
       "        [ True,  True,  True, ...,  True,  True,  True],\n",
       "        [ True,  True,  True, ...,  True,  True,  True]],\n",
       "\n",
       "       [[ True,  True,  True, ...,  True,  True,  True],\n",
       "        [ True,  True,  True, ...,  True,  True,  True],\n",
       "        [ True,  True,  True, ...,  True,  True,  True],\n",
       "        ..., \n",
       "        [ True,  True,  True, ...,  True,  True,  True],\n",
       "        [ True,  True,  True, ...,  True,  True,  True],\n",
       "        [ True,  True,  True, ...,  True,  True,  True]]], dtype=bool)"
      ]
     },
     "execution_count": 5,
     "metadata": {},
     "output_type": "execute_result"
    }
   ],
   "source": []
  },
  {
   "cell_type": "code",
   "execution_count": 21,
   "metadata": {},
   "outputs": [
    {
     "data": {
      "image/png": "[encoded data removed]",
      "text/plain": [
       "<matplotlib.figure.Figure at 0x19d757b00>"
      ]
     },
     "metadata": {},
     "output_type": "display_data"
    }
   ],
   "source": [
    "im_arrs = test_finder.get_channel_arrays(488)\n",
    "log_f_im = np.log10(im_arrs[0]+1)\n",
    "log_bg_im = np.log10(im_arrs[1]+1)\n",
    "log_gaussian_f = filters.gaussian_filter(log_f_im, sigma=[0,0,3,3])\n",
    "log_gaussian_bg = filters.gaussian_filter(log_bg_im, sigma=[0,0,3,3])\n",
    "log_bg_mean = np.mean(log_gaussian_bg)\n",
    "log_bg_sd = np.std(log_gaussian_bg)\n",
    "n, bins= np.histogram(log_gaussian_bg, 200)\n",
    "n = n/np.amax(n)\n",
    "plt.bar(bins[:-1],n,width = bins[1]-bins[0])\n",
    "norm_pdf = stats.norm.pdf(bins[:-1], log_bg_mean, log_bg_sd)\n",
    "plt.plot(bins[:-1], norm_pdf, color = 'red')\n",
    "plt.yscale('log', nonposy='clip')\n",
    "\n",
    "plt.show()"
   ]
  },
  {
   "cell_type": "code",
   "execution_count": 16,
   "metadata": {},
   "outputs": [
    {
     "data": {
      "image/png": "[encoded data removed]",
      "text/plain": [
       "<matplotlib.figure.Figure at 0x19d5ed9e8>"
      ]
     },
     "metadata": {},
     "output_type": "display_data"
    }
   ],
   "source": [
    "n, bins= np.histogram(log_gaussian_f, 200)\n",
    "n = n/np.amax(n)\n",
    "plt.bar(bins[:-1],n,width = bins[1]-bins[0])\n",
    "norm_pdf = stats.norm.pdf(bins[:-1], log_bg_mean, log_bg_sd)\n",
    "plt.plot(bins[:-1], norm_pdf, color = 'red')\n",
    "plt.yscale('log', nonposy='clip')\n",
    "\n",
    "\n",
    "plt.show()"
   ]
  },
  {
   "cell_type": "markdown",
   "metadata": {},
   "source": [
    "This is clearly a terrible fit but it _looks_ like it should work for my purposes (all of the dim stuff that likely corresponds to background matches in the two images, whereas there's more bright stuff in the + cells image."
   ]
  },
  {
   "cell_type": "code",
   "execution_count": 22,
   "metadata": {},
   "outputs": [],
   "source": [
    "f_pvals = 1-stats.norm.cdf(log_gaussian_f, log_bg_mean, log_bg_sd)\n",
    "f_pvals = f_pvals*65535 \n",
    "f_pvals = f_pvals.astype('uint16')"
   ]
  },
  {
   "cell_type": "code",
   "execution_count": 23,
   "metadata": {
    "collapsed": true
   },
   "outputs": [],
   "source": [
    "io.imsave('/Users/nweir/Dropbox/chris_imaging/imaging_test/th_sample_czi/pvals_test.tif', f_pvals)"
   ]
  },
  {
   "cell_type": "code",
   "execution_count": 58,
   "metadata": {},
   "outputs": [],
   "source": [
    "f_pvals_binary = np.copy(f_pvals)\n",
    "f_pvals_binary[f_pvals > 0] = 0\n",
    "f_pvals_binary[f_pvals == 0] = 1"
   ]
  },
  {
   "cell_type": "code",
   "execution_count": 59,
   "metadata": {},
   "outputs": [
    {
     "name": "stderr",
     "output_type": "stream",
     "text": [
      "/usr/local/lib/python3.6/site-packages/skimage/io/_io.py:132: UserWarning: /Users/nweir/Dropbox/chris_imaging/imaging_test/th_sample_czi/binary_pvals_test.tif is a low contrast image\n",
      "  warn('%s is a low contrast image' % fname)\n"
     ]
    }
   ],
   "source": [
    "io.imsave('/Users/nweir/Dropbox/chris_imaging/imaging_test/th_sample_czi/binary_pvals_test.tif', f_pvals_binary)"
   ]
  },
  {
   "cell_type": "code",
   "execution_count": 74,
   "metadata": {},
   "outputs": [],
   "source": [
    "curr_im = f_pvals_binary[0, :, :, :]\n",
    "r_labs = measure.label(curr_im, connectivity=2, background=0)\n",
    "objs_w_cts = np.unique(r_labs[r_labs != 0], return_counts=True)\n",
    "cell_mask = np.reshape(np.in1d(\n",
    "    r_labs, objs_w_cts[0][objs_w_cts[1] > 100000]),\n",
    "                       r_labs.shape)\n",
    "trim_labs = np.copy(r_labs)\n",
    "trim_labs[np.invert(cell_mask)] = 0\n"
   ]
  },
  {
   "cell_type": "code",
   "execution_count": 76,
   "metadata": {},
   "outputs": [
    {
     "name": "stderr",
     "output_type": "stream",
     "text": [
      "/usr/local/lib/python3.6/site-packages/skimage/io/_io.py:132: UserWarning: /Users/nweir/Dropbox/chris_imaging/imaging_test/th_sample_czi/curr_im_test.tif is a low contrast image\n",
      "  warn('%s is a low contrast image' % fname)\n",
      "/usr/local/lib/python3.6/site-packages/skimage/io/_io.py:132: UserWarning: /Users/nweir/Dropbox/chris_imaging/imaging_test/th_sample_czi/raw_labs_test.tif is a low contrast image\n",
      "  warn('%s is a low contrast image' % fname)\n",
      "/usr/local/lib/python3.6/site-packages/skimage/io/_io.py:132: UserWarning: /Users/nweir/Dropbox/chris_imaging/imaging_test/th_sample_czi/trimmed_labs_test.tif is a low contrast image\n",
      "  warn('%s is a low contrast image' % fname)\n",
      "/usr/local/lib/python3.6/site-packages/skimage/io/_io.py:132: UserWarning: /Users/nweir/Dropbox/chris_imaging/imaging_test/th_sample_czi/cell_mask_test.tif is a low contrast image\n",
      "  warn('%s is a low contrast image' % fname)\n"
     ]
    }
   ],
   "source": [
    "io.imsave('/Users/nweir/Dropbox/chris_imaging/imaging_test/th_sample_czi/curr_im_test.tif', curr_im.astype('uint16'))\n",
    "io.imsave('/Users/nweir/Dropbox/chris_imaging/imaging_test/th_sample_czi/raw_labs_test.tif', r_labs.astype('uint16'))\n",
    "io.imsave('/Users/nweir/Dropbox/chris_imaging/imaging_test/th_sample_czi/trimmed_labs_test.tif', trim_labs.astype('uint16'))\n",
    "io.imsave('/Users/nweir/Dropbox/chris_imaging/imaging_test/th_sample_czi/cell_mask_test.tif', cell_mask.astype('uint16'))"
   ]
  },
  {
   "cell_type": "code",
   "execution_count": 70,
   "metadata": {},
   "outputs": [
    {
     "data": {
      "text/plain": [
       "(51, 1112, 1112)"
      ]
     },
     "execution_count": 70,
     "metadata": {},
     "output_type": "execute_result"
    }
   ],
   "source": [
    "curr_im.shape"
   ]
  },
  {
   "cell_type": "code",
   "execution_count": 75,
   "metadata": {},
   "outputs": [
    {
     "data": {
      "text/plain": [
       "(array([   1,    2,    3, ..., 1189, 1190, 1191]),\n",
       " array([       9, 13584160,        2, ...,        3,        3,       17]))"
      ]
     },
     "execution_count": 75,
     "metadata": {},
     "output_type": "execute_result"
    }
   ],
   "source": [
    "objs_w_cts"
   ]
  },
  {
   "cell_type": "code",
   "execution_count": 72,
   "metadata": {},
   "outputs": [
    {
     "name": "stdout",
     "output_type": "stream",
     "text": [
      "(array([   0,    1,    2, ..., 1189, 1190, 1191]), array([49442110,        9, 13584160, ...,        3,        3,       17]))\n"
     ]
    }
   ],
   "source": [
    "print(objs_w_cts)"
   ]
  },
  {
   "cell_type": "code",
   "execution_count": 73,
   "metadata": {},
   "outputs": [
    {
     "data": {
      "text/plain": [
       "array([0, 2])"
      ]
     },
     "execution_count": 73,
     "metadata": {},
     "output_type": "execute_result"
    }
   ],
   "source": [
    "objs_w_cts[0][objs_w_cts[1] > 100000]"
   ]
  },
  {
   "cell_type": "code",
   "execution_count": null,
   "metadata": {
    "collapsed": true
   },
   "outputs": [],
   "source": []
  }
 ],
 "metadata": {
  "kernelspec": {
   "display_name": "Python 3",
   "language": "python",
   "name": "python3"
  },
  "language_info": {
   "codemirror_mode": {
    "name": "ipython",
    "version": 3
   },
   "file_extension": ".py",
   "mimetype": "text/x-python",
   "name": "python",
   "nbconvert_exporter": "python",
   "pygments_lexer": "ipython3",
   "version": "3.6.1"
  }
 },
 "nbformat": 4,
 "nbformat_minor": 2
}
