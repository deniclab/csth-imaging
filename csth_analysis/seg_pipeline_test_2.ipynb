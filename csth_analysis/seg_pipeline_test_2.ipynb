{
 "cells": [
  {
   "cell_type": "code",
   "execution_count": 3,
   "metadata": {},
   "outputs": [],
   "source": [
    "# import newly developed scripts\n",
    "import sys\n",
    "sys.path.append('/Users/nweir/Dropbox/code/csth-imaging')\n",
    "from csth_analysis import czi_io, find_cells, segment_cells, foci\n",
    "import numpy as np\n",
    "import os\n",
    "from skimage import io, measure\n",
    "from scipy.ndimage import filters\n",
    "import matplotlib.pyplot as plt\n",
    "from scipy import stats\n",
    "import pickle\n",
    "from skimage.feature import canny\n",
    "from pyto_segmenter import PexSegment\n",
    "from scipy.ndimage.morphology import distance_transform_edt\n",
    "from skimage.morphology import watershed\n",
    "import imp\n",
    "import csth_analysis\n",
    "%matplotlib inline"
   ]
  },
  {
   "cell_type": "code",
   "execution_count": 2,
   "metadata": {},
   "outputs": [],
   "source": [
    "os.chdir('/Users/nweir/Dropbox/chris_imaging/imaging_test/th_sample_czi')\n",
    "max_bytes = 2**31 - 1\n",
    "## read\n",
    "file_path = 'positive_splitter.pickle'\n",
    "bytes_in = bytearray(0)\n",
    "input_size = os.path.getsize(file_path)\n",
    "with open(file_path, 'rb') as f_in:\n",
    "    for _ in range(0, input_size, max_bytes):\n",
    "        bytes_in += f_in.read(max_bytes)\n",
    "positive_splitter = pickle.loads(bytes_in)"
   ]
  },
  {
   "cell_type": "code",
   "execution_count": null,
   "metadata": {},
   "outputs": [],
   "source": [
    "os.system('say \"Done\"')"
   ]
  },
  {
   "cell_type": "code",
   "execution_count": 3,
   "metadata": {},
   "outputs": [
    {
     "name": "stdout",
     "output_type": "stream",
     "text": [
      "initializing attributes...\n",
      "loading images...\n"
     ]
    }
   ],
   "source": [
    "pos_foci = foci.Foci(positive_splitter)"
   ]
  },
  {
   "cell_type": "code",
   "execution_count": null,
   "metadata": {
    "collapsed": true
   },
   "outputs": [],
   "source": [
    "file_path = \"pos_foci_test.pickle\"\n",
    "max_bytes = 2**31 - 1\n",
    " \n",
    "bytes_out = pickle.dumps(pos_foci)\n",
    "with open(file_path, 'wb') as f_out:\n",
    "    for idx in range(0, len(bytes_out), max_bytes):\n",
    "        f_out.write(bytes_out[idx:idx+max_bytes])"
   ]
  },
  {
   "cell_type": "code",
   "execution_count": 4,
   "metadata": {
    "scrolled": false
   },
   "outputs": [
    {
     "name": "stdout",
     "output_type": "stream",
     "text": [
      "beginning segmentation.\n",
      "------------------------------------------------------\n",
      "segmenting foci from channel 488\n",
      "------------------------------------------------------\n",
      "segmenting foci for position 1 out of 10\n",
      "raw image imported.\n",
      "performing gaussian filtering...\n",
      "Image smoothed.\n",
      "preprocessing complete.\n",
      "generating distance map...\n",
      "distance map complete.\n",
      "smoothing distance map...\n",
      "distance map smoothed.\n",
      "identifying maxima...\n",
      "maxima identified.\n",
      "watershedding...\n",
      "watershedding complete.\n",
      "creating PexSegmentObj...\n",
      "eliminating dim foci...\n",
      "eliminating foci that reside outside of cells...\n",
      "foci segmented from position 1\n",
      "\n",
      "segmenting foci for position 2 out of 10\n",
      "raw image imported.\n",
      "performing gaussian filtering...\n",
      "Image smoothed.\n",
      "preprocessing complete.\n",
      "generating distance map...\n",
      "distance map complete.\n",
      "smoothing distance map...\n",
      "distance map smoothed.\n",
      "identifying maxima...\n",
      "maxima identified.\n",
      "watershedding...\n",
      "watershedding complete.\n",
      "creating PexSegmentObj...\n",
      "eliminating dim foci...\n",
      "eliminating foci that reside outside of cells...\n",
      "foci segmented from position 2\n",
      "\n",
      "segmenting foci for position 3 out of 10\n",
      "raw image imported.\n",
      "performing gaussian filtering...\n",
      "Image smoothed.\n",
      "preprocessing complete.\n",
      "generating distance map...\n",
      "distance map complete.\n",
      "smoothing distance map...\n",
      "distance map smoothed.\n",
      "identifying maxima...\n",
      "maxima identified.\n",
      "watershedding...\n",
      "watershedding complete.\n",
      "creating PexSegmentObj...\n",
      "eliminating dim foci...\n",
      "eliminating foci that reside outside of cells...\n",
      "foci segmented from position 3\n",
      "\n",
      "segmenting foci for position 4 out of 10\n",
      "raw image imported.\n",
      "performing gaussian filtering...\n",
      "Image smoothed.\n",
      "preprocessing complete.\n",
      "generating distance map...\n",
      "distance map complete.\n",
      "smoothing distance map...\n",
      "distance map smoothed.\n",
      "identifying maxima...\n",
      "maxima identified.\n",
      "watershedding...\n",
      "watershedding complete.\n",
      "creating PexSegmentObj...\n",
      "eliminating dim foci...\n",
      "eliminating foci that reside outside of cells...\n",
      "foci segmented from position 4\n",
      "\n",
      "segmenting foci for position 5 out of 10\n",
      "raw image imported.\n",
      "performing gaussian filtering...\n",
      "Image smoothed.\n",
      "preprocessing complete.\n",
      "generating distance map...\n",
      "distance map complete.\n",
      "smoothing distance map...\n",
      "distance map smoothed.\n",
      "identifying maxima...\n",
      "maxima identified.\n",
      "watershedding...\n",
      "watershedding complete.\n",
      "creating PexSegmentObj...\n",
      "eliminating dim foci...\n",
      "eliminating foci that reside outside of cells...\n",
      "foci segmented from position 5\n",
      "\n",
      "segmenting foci for position 6 out of 10\n",
      "raw image imported.\n",
      "performing gaussian filtering...\n",
      "Image smoothed.\n",
      "preprocessing complete.\n",
      "generating distance map...\n",
      "distance map complete.\n",
      "smoothing distance map...\n",
      "distance map smoothed.\n",
      "identifying maxima...\n",
      "maxima identified.\n",
      "watershedding...\n",
      "watershedding complete.\n",
      "creating PexSegmentObj...\n",
      "eliminating dim foci...\n",
      "eliminating foci that reside outside of cells...\n",
      "foci segmented from position 6\n",
      "\n",
      "segmenting foci for position 7 out of 10\n",
      "raw image imported.\n",
      "performing gaussian filtering...\n",
      "Image smoothed.\n",
      "preprocessing complete.\n",
      "generating distance map...\n",
      "distance map complete.\n",
      "smoothing distance map...\n",
      "distance map smoothed.\n",
      "identifying maxima...\n",
      "maxima identified.\n",
      "watershedding...\n",
      "watershedding complete.\n",
      "creating PexSegmentObj...\n",
      "eliminating dim foci...\n",
      "eliminating foci that reside outside of cells...\n",
      "foci segmented from position 7\n",
      "\n",
      "segmenting foci for position 8 out of 10\n",
      "raw image imported.\n",
      "performing gaussian filtering...\n",
      "Image smoothed.\n",
      "preprocessing complete.\n",
      "generating distance map...\n",
      "distance map complete.\n",
      "smoothing distance map...\n",
      "distance map smoothed.\n",
      "identifying maxima...\n",
      "maxima identified.\n",
      "watershedding...\n",
      "watershedding complete.\n",
      "creating PexSegmentObj...\n",
      "eliminating dim foci...\n",
      "eliminating foci that reside outside of cells...\n",
      "foci segmented from position 8\n",
      "\n",
      "segmenting foci for position 9 out of 10\n",
      "raw image imported.\n",
      "performing gaussian filtering...\n",
      "Image smoothed.\n",
      "preprocessing complete.\n",
      "generating distance map...\n",
      "distance map complete.\n",
      "smoothing distance map...\n",
      "distance map smoothed.\n",
      "identifying maxima...\n",
      "maxima identified.\n",
      "watershedding...\n",
      "watershedding complete.\n",
      "creating PexSegmentObj...\n",
      "eliminating dim foci...\n",
      "eliminating foci that reside outside of cells...\n",
      "foci segmented from position 9\n",
      "\n",
      "segmenting foci for position 10 out of 10\n",
      "raw image imported.\n",
      "performing gaussian filtering...\n",
      "Image smoothed.\n",
      "preprocessing complete.\n",
      "generating distance map...\n",
      "distance map complete.\n",
      "smoothing distance map...\n",
      "distance map smoothed.\n",
      "identifying maxima...\n",
      "maxima identified.\n",
      "watershedding...\n",
      "watershedding complete.\n",
      "creating PexSegmentObj...\n",
      "eliminating dim foci...\n",
      "eliminating foci that reside outside of cells...\n",
      "foci segmented from position 10\n",
      "\n",
      "------------------------------------------------------\n",
      "segmentation complete for channel 488\n",
      "------------------------------------------------------\n",
      "------------------------------------------------------\n",
      "segmenting foci from channel 561\n",
      "------------------------------------------------------\n",
      "segmenting foci for position 1 out of 10\n",
      "raw image imported.\n",
      "performing gaussian filtering...\n",
      "Image smoothed.\n",
      "preprocessing complete.\n",
      "generating distance map...\n",
      "distance map complete.\n",
      "smoothing distance map...\n",
      "distance map smoothed.\n",
      "identifying maxima...\n",
      "maxima identified.\n",
      "watershedding...\n",
      "watershedding complete.\n",
      "creating PexSegmentObj...\n",
      "eliminating dim foci...\n",
      "eliminating foci that reside outside of cells...\n",
      "foci segmented from position 1\n",
      "\n",
      "segmenting foci for position 2 out of 10\n",
      "raw image imported.\n",
      "performing gaussian filtering...\n",
      "Image smoothed.\n",
      "preprocessing complete.\n",
      "generating distance map...\n",
      "distance map complete.\n",
      "smoothing distance map...\n",
      "distance map smoothed.\n",
      "identifying maxima...\n",
      "maxima identified.\n",
      "watershedding...\n",
      "watershedding complete.\n",
      "creating PexSegmentObj...\n",
      "eliminating dim foci...\n",
      "eliminating foci that reside outside of cells...\n",
      "foci segmented from position 2\n",
      "\n",
      "segmenting foci for position 3 out of 10\n",
      "raw image imported.\n",
      "performing gaussian filtering...\n",
      "Image smoothed.\n",
      "preprocessing complete.\n",
      "generating distance map...\n",
      "distance map complete.\n",
      "smoothing distance map...\n",
      "distance map smoothed.\n",
      "identifying maxima...\n",
      "maxima identified.\n",
      "watershedding...\n",
      "watershedding complete.\n",
      "creating PexSegmentObj...\n",
      "eliminating dim foci...\n",
      "eliminating foci that reside outside of cells...\n",
      "foci segmented from position 3\n",
      "\n",
      "segmenting foci for position 4 out of 10\n",
      "raw image imported.\n",
      "performing gaussian filtering...\n",
      "Image smoothed.\n",
      "preprocessing complete.\n",
      "generating distance map...\n",
      "distance map complete.\n",
      "smoothing distance map...\n",
      "distance map smoothed.\n",
      "identifying maxima...\n",
      "maxima identified.\n",
      "watershedding...\n",
      "watershedding complete.\n",
      "creating PexSegmentObj...\n",
      "eliminating dim foci...\n",
      "eliminating foci that reside outside of cells...\n",
      "foci segmented from position 4\n",
      "\n",
      "segmenting foci for position 5 out of 10\n",
      "raw image imported.\n",
      "performing gaussian filtering...\n",
      "Image smoothed.\n",
      "preprocessing complete.\n",
      "generating distance map...\n",
      "distance map complete.\n",
      "smoothing distance map...\n",
      "distance map smoothed.\n",
      "identifying maxima...\n",
      "maxima identified.\n",
      "watershedding...\n",
      "watershedding complete.\n",
      "creating PexSegmentObj...\n",
      "eliminating dim foci...\n",
      "eliminating foci that reside outside of cells...\n",
      "foci segmented from position 5\n",
      "\n",
      "segmenting foci for position 6 out of 10\n",
      "raw image imported.\n",
      "performing gaussian filtering...\n",
      "Image smoothed.\n",
      "preprocessing complete.\n",
      "generating distance map...\n",
      "distance map complete.\n",
      "smoothing distance map...\n",
      "distance map smoothed.\n",
      "identifying maxima...\n",
      "maxima identified.\n",
      "watershedding...\n",
      "watershedding complete.\n",
      "creating PexSegmentObj...\n",
      "eliminating dim foci...\n",
      "eliminating foci that reside outside of cells...\n",
      "foci segmented from position 6\n",
      "\n",
      "segmenting foci for position 7 out of 10\n",
      "raw image imported.\n",
      "performing gaussian filtering...\n",
      "Image smoothed.\n",
      "preprocessing complete.\n",
      "generating distance map...\n",
      "distance map complete.\n",
      "smoothing distance map...\n",
      "distance map smoothed.\n",
      "identifying maxima...\n",
      "maxima identified.\n",
      "watershedding...\n",
      "watershedding complete.\n",
      "creating PexSegmentObj...\n",
      "eliminating dim foci...\n",
      "eliminating foci that reside outside of cells...\n",
      "foci segmented from position 7\n",
      "\n",
      "segmenting foci for position 8 out of 10\n",
      "raw image imported.\n",
      "performing gaussian filtering...\n",
      "Image smoothed.\n",
      "preprocessing complete.\n",
      "generating distance map...\n"
     ]
    },
    {
     "name": "stdout",
     "output_type": "stream",
     "text": [
      "distance map complete.\n",
      "smoothing distance map...\n",
      "distance map smoothed.\n",
      "identifying maxima...\n",
      "maxima identified.\n",
      "watershedding...\n",
      "watershedding complete.\n",
      "creating PexSegmentObj...\n",
      "eliminating dim foci...\n",
      "eliminating foci that reside outside of cells...\n",
      "foci segmented from position 8\n",
      "\n",
      "segmenting foci for position 9 out of 10\n",
      "raw image imported.\n",
      "performing gaussian filtering...\n",
      "Image smoothed.\n",
      "preprocessing complete.\n",
      "generating distance map...\n",
      "distance map complete.\n",
      "smoothing distance map...\n",
      "distance map smoothed.\n",
      "identifying maxima...\n",
      "maxima identified.\n",
      "watershedding...\n",
      "watershedding complete.\n",
      "creating PexSegmentObj...\n",
      "eliminating dim foci...\n",
      "eliminating foci that reside outside of cells...\n",
      "foci segmented from position 9\n",
      "\n",
      "segmenting foci for position 10 out of 10\n",
      "raw image imported.\n",
      "performing gaussian filtering...\n",
      "Image smoothed.\n",
      "preprocessing complete.\n",
      "generating distance map...\n",
      "distance map complete.\n",
      "smoothing distance map...\n",
      "distance map smoothed.\n",
      "identifying maxima...\n",
      "maxima identified.\n",
      "watershedding...\n",
      "watershedding complete.\n",
      "creating PexSegmentObj...\n",
      "eliminating dim foci...\n",
      "eliminating foci that reside outside of cells...\n",
      "foci segmented from position 10\n",
      "\n",
      "------------------------------------------------------\n",
      "segmentation complete for channel 561\n",
      "------------------------------------------------------\n"
     ]
    }
   ],
   "source": [
    "pos_foci.segment()"
   ]
  },
  {
   "cell_type": "code",
   "execution_count": 5,
   "metadata": {
    "collapsed": true
   },
   "outputs": [],
   "source": [
    "os.chdir('/Users/nweir/Dropbox/chris_imaging/imaging_test/th_sample_czi')\n",
    "file_path = \"pos_foci_test.pickle\"\n",
    "max_bytes = 2**31 - 1\n",
    " \n",
    "bytes_out = pickle.dumps(pos_foci)\n",
    "with open(file_path, 'wb') as f_out:\n",
    "    for idx in range(0, len(bytes_out), max_bytes):\n",
    "        f_out.write(bytes_out[idx:idx+max_bytes])"
   ]
  },
  {
   "cell_type": "code",
   "execution_count": 4,
   "metadata": {},
   "outputs": [],
   "source": [
    "os.chdir('/Users/nweir/Dropbox/chris_imaging/imaging_test/th_sample_czi')\n",
    "max_bytes = 2**31 - 1\n",
    "## read\n",
    "file_path = 'pos_foci_test.pickle'\n",
    "bytes_in = bytearray(0)\n",
    "input_size = os.path.getsize(file_path)\n",
    "with open(file_path, 'rb') as f_in:\n",
    "    for _ in range(0, input_size, max_bytes):\n",
    "        bytes_in += f_in.read(max_bytes)\n",
    "pos_foci = pickle.loads(bytes_in)"
   ]
  },
  {
   "cell_type": "code",
   "execution_count": 3,
   "metadata": {},
   "outputs": [
    {
     "data": {
      "text/plain": [
       "0"
      ]
     },
     "execution_count": 3,
     "metadata": {},
     "output_type": "execute_result"
    }
   ],
   "source": [
    "os.system('say \"Done\"')"
   ]
  },
  {
   "cell_type": "code",
   "execution_count": 5,
   "metadata": {},
   "outputs": [
    {
     "name": "stdout",
     "output_type": "stream",
     "text": [
      "------------------------------------------------------\n",
      "counting foci/cell in channel 488 images...\n",
      "------------------------------------------------------\n",
      "counting foci/cell in image #1 of 10\n",
      "counting foci/cell in image #2 of 10\n",
      "counting foci/cell in image #3 of 10\n",
      "counting foci/cell in image #4 of 10\n",
      "counting foci/cell in image #5 of 10\n",
      "counting foci/cell in image #6 of 10\n",
      "counting foci/cell in image #7 of 10\n",
      "counting foci/cell in image #8 of 10\n",
      "counting foci/cell in image #9 of 10\n",
      "counting foci/cell in image #10 of 10\n",
      "------------------------------------------------------\n",
      "counting foci/cell in channel 561 images...\n",
      "------------------------------------------------------\n",
      "counting foci/cell in image #1 of 10\n",
      "counting foci/cell in image #2 of 10\n",
      "counting foci/cell in image #3 of 10\n",
      "counting foci/cell in image #4 of 10\n",
      "counting foci/cell in image #5 of 10\n",
      "counting foci/cell in image #6 of 10\n",
      "counting foci/cell in image #7 of 10\n",
      "counting foci/cell in image #8 of 10\n",
      "counting foci/cell in image #9 of 10\n",
      "counting foci/cell in image #10 of 10\n"
     ]
    }
   ],
   "source": [
    "pos_foci.count_foci()"
   ]
  },
  {
   "cell_type": "code",
   "execution_count": 8,
   "metadata": {},
   "outputs": [
    {
     "data": {
      "text/plain": [
       "0"
      ]
     },
     "execution_count": 8,
     "metadata": {},
     "output_type": "execute_result"
    }
   ],
   "source": [
    "os.system('say \"Done\"')"
   ]
  },
  {
   "cell_type": "code",
   "execution_count": 14,
   "metadata": {},
   "outputs": [
    {
     "data": {
      "text/plain": [
       "{0: array([108]),\n",
       " 1: array([124]),\n",
       " 2: array([162]),\n",
       " 3: array([126]),\n",
       " 4: array([0]),\n",
       " 5: array([90]),\n",
       " 6: array([61]),\n",
       " 7: array([68, 62]),\n",
       " 8: array([76, 82]),\n",
       " 9: array([105,  96])}"
      ]
     },
     "execution_count": 14,
     "metadata": {},
     "output_type": "execute_result"
    }
   ],
   "source": [
    "pos_foci.foci_cts['561']"
   ]
  },
  {
   "cell_type": "code",
   "execution_count": 12,
   "metadata": {},
   "outputs": [
    {
     "data": {
      "text/plain": [
       "[1, 1, 1, 1, 1, 1, 1, 2, 2, 2]"
      ]
     },
     "execution_count": 12,
     "metadata": {},
     "output_type": "execute_result"
    }
   ],
   "source": [
    "pos_foci.n_cells"
   ]
  },
  {
   "cell_type": "code",
   "execution_count": 13,
   "metadata": {},
   "outputs": [
    {
     "name": "stderr",
     "output_type": "stream",
     "text": [
      "/usr/local/lib/python3.6/site-packages/skimage/io/_io.py:132: UserWarning: test_segmentation_posfoci.tif is a low contrast image\n",
      "  warn('%s is a low contrast image' % fname)\n"
     ]
    }
   ],
   "source": [
    "io.imsave('test_segmentation_posfoci.tif', pos_foci.segmented_cells[4])"
   ]
  },
  {
   "cell_type": "code",
   "execution_count": 6,
   "metadata": {},
   "outputs": [
    {
     "name": "stdout",
     "output_type": "stream",
     "text": [
      "checking channels...\n",
      "checking for overlap...\n",
      "measuring overlap in channel 488\n",
      "finding overlap in image #1out of 10\n",
      "getting IDs of overlapping foci...\n",
      "creating image of overlapping foci...\n",
      "counting # of overlapping foci per cell...\n",
      "finding overlap in image #2out of 10\n",
      "getting IDs of overlapping foci...\n",
      "creating image of overlapping foci...\n",
      "counting # of overlapping foci per cell...\n",
      "finding overlap in image #3out of 10\n",
      "getting IDs of overlapping foci...\n",
      "creating image of overlapping foci...\n",
      "counting # of overlapping foci per cell...\n",
      "finding overlap in image #4out of 10\n",
      "getting IDs of overlapping foci...\n",
      "creating image of overlapping foci...\n",
      "counting # of overlapping foci per cell...\n",
      "finding overlap in image #5out of 10\n",
      "getting IDs of overlapping foci...\n",
      "creating image of overlapping foci...\n",
      "counting # of overlapping foci per cell...\n",
      "finding overlap in image #6out of 10\n",
      "getting IDs of overlapping foci...\n",
      "creating image of overlapping foci...\n",
      "counting # of overlapping foci per cell...\n",
      "finding overlap in image #7out of 10\n",
      "getting IDs of overlapping foci...\n",
      "creating image of overlapping foci...\n",
      "counting # of overlapping foci per cell...\n",
      "finding overlap in image #8out of 10\n",
      "getting IDs of overlapping foci...\n",
      "creating image of overlapping foci...\n",
      "counting # of overlapping foci per cell...\n",
      "finding overlap in image #9out of 10\n",
      "getting IDs of overlapping foci...\n",
      "creating image of overlapping foci...\n",
      "counting # of overlapping foci per cell...\n",
      "finding overlap in image #10out of 10\n",
      "getting IDs of overlapping foci...\n",
      "creating image of overlapping foci...\n",
      "counting # of overlapping foci per cell...\n"
     ]
    }
   ],
   "source": [
    "pos_foci.measure_overlap()"
   ]
  },
  {
   "cell_type": "code",
   "execution_count": 6,
   "metadata": {},
   "outputs": [
    {
     "data": {
      "text/plain": [
       "{0: array([72]),\n",
       " 1: array([56]),\n",
       " 2: array([96]),\n",
       " 3: array([66]),\n",
       " 4: array([0]),\n",
       " 5: array([54]),\n",
       " 6: array([45]),\n",
       " 7: array([38, 29]),\n",
       " 8: array([46, 53]),\n",
       " 9: array([86, 76])}"
      ]
     },
     "execution_count": 6,
     "metadata": {},
     "output_type": "execute_result"
    }
   ],
   "source": [
    "pos_foci.foci_cts['overlap']"
   ]
  },
  {
   "cell_type": "code",
   "execution_count": 7,
   "metadata": {},
   "outputs": [
    {
     "data": {
      "text/plain": [
       "{0: array([98]),\n",
       " 1: array([77]),\n",
       " 2: array([140]),\n",
       " 3: array([138]),\n",
       " 4: array([0]),\n",
       " 5: array([183]),\n",
       " 6: array([70]),\n",
       " 7: array([101,  75]),\n",
       " 8: array([70, 68]),\n",
       " 9: array([104,  90])}"
      ]
     },
     "execution_count": 7,
     "metadata": {},
     "output_type": "execute_result"
    }
   ],
   "source": [
    "pos_foci.foci_cts['488']"
   ]
  },
  {
   "cell_type": "code",
   "execution_count": 8,
   "metadata": {},
   "outputs": [
    {
     "data": {
      "text/plain": [
       "'LC3-p62_HEK_dTMEM_No Torin_10Pos_1_AiryscanProcessing.czi'"
      ]
     },
     "execution_count": 8,
     "metadata": {},
     "output_type": "execute_result"
    }
   ],
   "source": [
    "pos_foci.filenames"
   ]
  },
  {
   "cell_type": "code",
   "execution_count": 7,
   "metadata": {},
   "outputs": [
    {
     "name": "stdout",
     "output_type": "stream",
     "text": [
      "initializing pd.DataFrame for output...\n",
      "populating output arrays...\n"
     ]
    }
   ],
   "source": [
    "pos_foci.pandas_output('test_output.csv')"
   ]
  },
  {
   "cell_type": "code",
   "execution_count": null,
   "metadata": {
    "collapsed": true
   },
   "outputs": [],
   "source": []
  }
 ],
 "metadata": {
  "kernelspec": {
   "display_name": "Python 3",
   "language": "python",
   "name": "python3"
  },
  "language_info": {
   "codemirror_mode": {
    "name": "ipython",
    "version": 3
   },
   "file_extension": ".py",
   "mimetype": "text/x-python",
   "name": "python",
   "nbconvert_exporter": "python",
   "pygments_lexer": "ipython3",
   "version": "3.6.1"
  }
 },
 "nbformat": 4,
 "nbformat_minor": 2
}
