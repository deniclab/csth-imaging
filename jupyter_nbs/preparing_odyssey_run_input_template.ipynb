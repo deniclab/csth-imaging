{
 "cells": [
  {
   "cell_type": "markdown",
   "metadata": {},
   "source": [
    "# Preparing input list for the Odyssey cluster analysis run\n",
    "\n",
    "In order to distribute the analysis amongst nodes on the cluster, I'm generating a .csv-format reference list in which each row will be the name of one image to run analysis on. For each image, I'll assign a control image to each sample. The python script called by the slurm submission script will pick a row based on its position in the job array and run analysis on that file."
   ]
  },
  {
   "cell_type": "code",
   "execution_count": 5,
   "metadata": {
    "collapsed": true
   },
   "outputs": [],
   "source": [
    "import os\n",
    "files_list = []\n",
    "for i in os.walk('/path/to/czi/files'):\n",
    "    for f in i[2]:\n",
    "        if not f.endswith('.czi'):\n",
    "            continue\n",
    "        files_list.append(i[0]+'/'+f)"
   ]
  },
  {
   "cell_type": "code",
   "execution_count": 6,
   "metadata": {},
   "outputs": [
    {
     "name": "stdout",
     "output_type": "stream",
     "text": [
      "/Volumes/denic_lab-1/Lab/TH_Imaging/8.7.17_TH84_Lysoview-LC3_Timecourse_LSM880_Airyscan//Lysoview-LC3_HEK_dFIP200_1hrTor_Empty_AiryscanProcessing.czi\n",
      "/Volumes/denic_lab-1/Lab/TH_Imaging/8.7.17_TH84_Lysoview-LC3_Timecourse_LSM880_Airyscan//Lysoview-LC3_HEK_WT_0hrTor_20Pos_1_AiryscanProcessing.czi\n",
      "/Volumes/denic_lab-1/Lab/TH_Imaging/8.7.17_TH84_Lysoview-LC3_Timecourse_LSM880_Airyscan//Lysoview-LC3_HEK_dFIP200_3hrTor_13Pos_3_AiryscanProcessing.czi\n",
      "/Volumes/denic_lab-1/Lab/TH_Imaging/8.7.17_TH84_Lysoview-LC3_Timecourse_LSM880_Airyscan//Lysoview-LC3_HEK_WT_0hrTor_20Pos_2_AiryscanProcessing.czi\n",
      "/Volumes/denic_lab-1/Lab/TH_Imaging/8.7.17_TH84_Lysoview-LC3_Timecourse_LSM880_Airyscan//Lysoview-LC3_HEK_dFIP200_3hrTor_20Pos_AiryscanProcessing.czi\n",
      "/Volumes/denic_lab-1/Lab/TH_Imaging/8.7.17_TH84_Lysoview-LC3_Timecourse_LSM880_Airyscan//Lysoview-LC3_HEK_WT_0hrTor_Empty_AiryscanProcessing.czi\n",
      "/Volumes/denic_lab-1/Lab/TH_Imaging/8.7.17_TH84_Lysoview-LC3_Timecourse_LSM880_Airyscan//Lysoview-LC3_HEK_dFIP200_3hrTor_7Pos_AiryscanProcessing.czi\n",
      "/Volumes/denic_lab-1/Lab/TH_Imaging/8.7.17_TH84_Lysoview-LC3_Timecourse_LSM880_Airyscan//Lysoview-LC3_HEK_WT_1hrTor_20Pos_1_AiryscanProcessing.czi\n",
      "/Volumes/denic_lab-1/Lab/TH_Imaging/8.7.17_TH84_Lysoview-LC3_Timecourse_LSM880_Airyscan//Lysoview-LC3_HEK_dFIP200_3hrTor_Empty_AiryscanProcessing.czi\n",
      "/Volumes/denic_lab-1/Lab/TH_Imaging/8.7.17_TH84_Lysoview-LC3_Timecourse_LSM880_Airyscan//Lysoview-LC3_HEK_WT_1hrTor_20Pos_2_AiryscanProcessing.czi\n",
      "/Volumes/denic_lab-1/Lab/TH_Imaging/8.7.17_TH84_Lysoview-LC3_Timecourse_LSM880_Airyscan//Lysoview-LC3_HEK_dTMEM_0hrTor_10Pos_1_AiryscanProcessing.czi\n",
      "/Volumes/denic_lab-1/Lab/TH_Imaging/8.7.17_TH84_Lysoview-LC3_Timecourse_LSM880_Airyscan//Lysoview-LC3_HEK_WT_1hrTor_Empty_AiryscanProcessing.czi\n",
      "/Volumes/denic_lab-1/Lab/TH_Imaging/8.7.17_TH84_Lysoview-LC3_Timecourse_LSM880_Airyscan//Lysoview-LC3_HEK_dTMEM_0hrTor_20Pos_3_AiryscanProcessing.czi\n",
      "/Volumes/denic_lab-1/Lab/TH_Imaging/8.7.17_TH84_Lysoview-LC3_Timecourse_LSM880_Airyscan//Lysoview-LC3_HEK_WT_3hrTor_10Pos_1_AiryscanProcessing.czi\n",
      "/Volumes/denic_lab-1/Lab/TH_Imaging/8.7.17_TH84_Lysoview-LC3_Timecourse_LSM880_Airyscan//Lysoview-LC3_HEK_dTMEM_0hrTor_10Pos_2_AiryscanProcessing.czi\n",
      "/Volumes/denic_lab-1/Lab/TH_Imaging/8.7.17_TH84_Lysoview-LC3_Timecourse_LSM880_Airyscan//Lysoview-LC3_HEK_WT_3hrTor_10Pos_2_AiryscanProcessing.czi\n",
      "/Volumes/denic_lab-1/Lab/TH_Imaging/8.7.17_TH84_Lysoview-LC3_Timecourse_LSM880_Airyscan//Lysoview-LC3_HEK_dTMEM_0hrTor_Empty_AiryscanProcessing.czi\n",
      "/Volumes/denic_lab-1/Lab/TH_Imaging/8.7.17_TH84_Lysoview-LC3_Timecourse_LSM880_Airyscan//Lysoview-LC3_HEK_WT_3hrTor_14Pos_3_AiryscanProcessing.czi\n",
      "/Volumes/denic_lab-1/Lab/TH_Imaging/8.7.17_TH84_Lysoview-LC3_Timecourse_LSM880_Airyscan//Lysoview-LC3_HEK_dTMEM_1hrTor_40Pos_1_AiryscanProcessing.czi\n",
      "/Volumes/denic_lab-1/Lab/TH_Imaging/8.7.17_TH84_Lysoview-LC3_Timecourse_LSM880_Airyscan//Lysoview-LC3_HEK_WT_3hrTor_6Pos_AiryscanProcessing.czi\n",
      "/Volumes/denic_lab-1/Lab/TH_Imaging/8.7.17_TH84_Lysoview-LC3_Timecourse_LSM880_Airyscan//Lysoview-LC3_HEK_dTMEM_1hrTor_Empty_AiryscanProcessing.czi\n",
      "/Volumes/denic_lab-1/Lab/TH_Imaging/8.7.17_TH84_Lysoview-LC3_Timecourse_LSM880_Airyscan//Lysoview-LC3_HEK_WT_3hrTor_Empty_AiryscanProcessing.czi\n",
      "/Volumes/denic_lab-1/Lab/TH_Imaging/8.7.17_TH84_Lysoview-LC3_Timecourse_LSM880_Airyscan//Lysoview-LC3_HEK_dTMEM_3hrTor_16Pos_2_AiryscanProcessing.czi\n",
      "/Volumes/denic_lab-1/Lab/TH_Imaging/8.7.17_TH84_Lysoview-LC3_Timecourse_LSM880_Airyscan//Lysoview-LC3_HEK_dAtg7_0hrTor_20Pos_1_AiryscanProcessing.czi\n",
      "/Volumes/denic_lab-1/Lab/TH_Imaging/8.7.17_TH84_Lysoview-LC3_Timecourse_LSM880_Airyscan//Lysoview-LC3_HEK_dTMEM_3hrTor_20Pos_1_AiryscanProcessing.czi\n",
      "/Volumes/denic_lab-1/Lab/TH_Imaging/8.7.17_TH84_Lysoview-LC3_Timecourse_LSM880_Airyscan//Lysoview-LC3_HEK_dAtg7_0hrTor_20Pos_2_AiryscanProcessing.czi\n",
      "/Volumes/denic_lab-1/Lab/TH_Imaging/8.7.17_TH84_Lysoview-LC3_Timecourse_LSM880_Airyscan//Lysoview-LC3_HEK_dTMEM_3hrTor_5Pos_AiryscanProcessing.czi\n",
      "/Volumes/denic_lab-1/Lab/TH_Imaging/8.7.17_TH84_Lysoview-LC3_Timecourse_LSM880_Airyscan//Lysoview-LC3_HEK_dAtg7_0hrTor_Empty_AiryscanProcessing.czi\n",
      "/Volumes/denic_lab-1/Lab/TH_Imaging/8.7.17_TH84_Lysoview-LC3_Timecourse_LSM880_Airyscan//Lysoview-LC3_HEK_dTMEM_3hrTor_Empty_AiryscanProcessing.czi\n",
      "/Volumes/denic_lab-1/Lab/TH_Imaging/8.7.17_TH84_Lysoview-LC3_Timecourse_LSM880_Airyscan//Lysoview-LC3_HEK_dAtg7_1hrTor_20Pos_1_AiryscanProcessing.czi\n",
      "/Volumes/denic_lab-1/Lab/TH_Imaging/8.7.17_TH84_Lysoview-LC3_Timecourse_LSM880_Airyscan//Lysoview-LC3_HEK_dVPS37A_1hrTor_20Pos_1_AiryscanProcessing.czi\n",
      "/Volumes/denic_lab-1/Lab/TH_Imaging/8.7.17_TH84_Lysoview-LC3_Timecourse_LSM880_Airyscan//Lysoview-LC3_HEK_dAtg7_1hrTor_20Pos_2_AiryscanProcessing.czi\n",
      "/Volumes/denic_lab-1/Lab/TH_Imaging/8.7.17_TH84_Lysoview-LC3_Timecourse_LSM880_Airyscan//Lysoview-LC3_HEK_dVPS37A_1hrTor_20Pos_2_AiryscanProcessing.czi\n",
      "/Volumes/denic_lab-1/Lab/TH_Imaging/8.7.17_TH84_Lysoview-LC3_Timecourse_LSM880_Airyscan//Lysoview-LC3_HEK_dAtg7_1hrTor_Empty_AiryscanProcessing.czi\n",
      "/Volumes/denic_lab-1/Lab/TH_Imaging/8.7.17_TH84_Lysoview-LC3_Timecourse_LSM880_Airyscan//Lysoview-LC3_HEK_dVPS37A_1hrTor_Empty_AiryscanProcessing.czi\n",
      "/Volumes/denic_lab-1/Lab/TH_Imaging/8.7.17_TH84_Lysoview-LC3_Timecourse_LSM880_Airyscan//Lysoview-LC3_HEK_dAtg7_3hrTor_20Pos_2_AiryscanProcessing.czi\n",
      "/Volumes/denic_lab-1/Lab/TH_Imaging/8.7.17_TH84_Lysoview-LC3_Timecourse_LSM880_Airyscan//Lysoview-LC3_HEK_dVPS37A_3hrTor_10Pos_1_AiryscanProcessing.czi\n",
      "/Volumes/denic_lab-1/Lab/TH_Imaging/8.7.17_TH84_Lysoview-LC3_Timecourse_LSM880_Airyscan//Lysoview-LC3_HEK_dAtg7_3hrTor_2Pos_4_AiryscanProcessing.czi\n",
      "/Volumes/denic_lab-1/Lab/TH_Imaging/8.7.17_TH84_Lysoview-LC3_Timecourse_LSM880_Airyscan//Lysoview-LC3_HEK_dVPS37A_3hrTor_11Pos_2_AiryscanProcessing.czi\n",
      "/Volumes/denic_lab-1/Lab/TH_Imaging/8.7.17_TH84_Lysoview-LC3_Timecourse_LSM880_Airyscan//Lysoview-LC3_HEK_dAtg7_3hrTor_9Pos_1_AiryscanProcessing.czi\n",
      "/Volumes/denic_lab-1/Lab/TH_Imaging/8.7.17_TH84_Lysoview-LC3_Timecourse_LSM880_Airyscan//Lysoview-LC3_HEK_dVPS37A_3hrTor_20Pos_3_AiryscanProcessing.czi\n",
      "/Volumes/denic_lab-1/Lab/TH_Imaging/8.7.17_TH84_Lysoview-LC3_Timecourse_LSM880_Airyscan//Lysoview-LC3_HEK_dAtg7_3hrTor_9Pos_3_AiryscanProcessing.czi\n",
      "/Volumes/denic_lab-1/Lab/TH_Imaging/8.7.17_TH84_Lysoview-LC3_Timecourse_LSM880_Airyscan//Lysoview-LC3_HEK_dVPS37A_3hrTor_Empty_AiryscanProcessing.czi\n",
      "/Volumes/denic_lab-1/Lab/TH_Imaging/8.7.17_TH84_Lysoview-LC3_Timecourse_LSM880_Airyscan//Lysoview-LC3_HEK_dAtg7_3hrTor_Empty_AiryscanProcessing.czi\n",
      "/Volumes/denic_lab-1/Lab/TH_Imaging/8.7.17_TH84_Lysoview-LC3_Timecourse_LSM880_Airyscan//Lysoview-LC3_HEK_dFIP200_0hrTor_Empty_AiryscanProcessing.czi\n",
      "/Volumes/denic_lab-1/Lab/TH_Imaging/8.7.17_TH84_Lysoview-LC3_Timecourse_LSM880_Airyscan//Lysoview-LC3_HEK_dFIP200_0hrTor_20Pos_1_AiryscanProcessing.czi\n",
      "/Volumes/denic_lab-1/Lab/TH_Imaging/8.7.17_TH84_Lysoview-LC3_Timecourse_LSM880_Airyscan//Lysoview-LC3_HEK_dFIP200_1hrTor_40Pos_1_AiryscanProcessing.czi\n",
      "/Volumes/denic_lab-1/Lab/TH_Imaging/8.7.17_TH84_Lysoview-LC3_Timecourse_LSM880_Airyscan//Lysoview-LC3_HEK_dFIP200_0hrTor_20Pos_2_AiryscanProcessing.czi\n",
      "/Volumes/denic_lab-1/Lab/TH_Imaging/8.7.17_TH84_Lysoview-LC3_Timecourse_LSM880_Airyscan//Lysoview-LC3_HEK_dVPS37A_0hrTor_20Pos_1_AiryscanProcessing.czi\n",
      "/Volumes/denic_lab-1/Lab/TH_Imaging/8.7.17_TH84_Lysoview-LC3_Timecourse_LSM880_Airyscan//Lysoview-LC3_HEK_dVPS37A_0hrTor_Empty_AiryscanProcessing.czi\n",
      "/Volumes/denic_lab-1/Lab/TH_Imaging/8.7.17_TH84_Lysoview-LC3_Timecourse_LSM880_Airyscan//Lysoview-LC3_HEK_dVPS37A_0hrTor_20Pos_2_AiryscanProcessing.czi\n"
     ]
    }
   ],
   "source": [
    "for i in files_list:\n",
    "    print(i)"
   ]
  },
  {
   "cell_type": "code",
   "execution_count": 7,
   "metadata": {
    "collapsed": true
   },
   "outputs": [],
   "source": [
    "import pandas as pd\n",
    "f_series = pd.Series(files_list)\n",
    "output_df = pd.DataFrame({'files': f_series})\n",
    "output_df.to_csv('/path/to/file_list.csv')"
   ]
  }
 ],
 "metadata": {
  "kernelspec": {
   "display_name": "Python 3",
   "language": "python",
   "name": "python3"
  },
  "language_info": {
   "codemirror_mode": {
    "name": "ipython",
    "version": 3
   },
   "file_extension": ".py",
   "mimetype": "text/x-python",
   "name": "python",
   "nbconvert_exporter": "python",
   "pygments_lexer": "ipython3",
   "version": "3.6.1"
  }
 },
 "nbformat": 4,
 "nbformat_minor": 2
}
